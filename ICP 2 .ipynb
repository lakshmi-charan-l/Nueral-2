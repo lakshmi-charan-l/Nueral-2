{
 "cells": [
  {
   "cell_type": "code",
   "execution_count": 5,
   "id": "811b97f5",
   "metadata": {},
   "outputs": [
    {
     "name": "stdout",
     "output_type": "stream",
     "text": [
      "lakshmi\n",
      "charan\n",
      "lakshmi charan\n",
      "lkhicaa\n"
     ]
    }
   ],
   "source": [
    "#using a function to get the fullname from the firstname and lastname\n",
    "def fullname (first_name, last_name):\n",
    "\n",
    "    #string concatenation is done to get fullname\n",
    "    full_name = first_name + \" \" + last_name\n",
    "\n",
    "    #returns the fullname\n",
    "    return full_name\n",
    "\n",
    "#using a function to get the alternative characters in a string \n",
    "def string_alternative(full_name):\n",
    "\n",
    "    #returns the alternated stirng \n",
    "    return full_name[::2]\n",
    "\n",
    "#input the first and last names\n",
    "first_name = input()\n",
    "last_name = input()\n",
    "\n",
    "#calling fullname fucntion to get fullname\n",
    "full_name = fullname(first_name, last_name)\n",
    "\n",
    "#string of the alternated characters\n",
    "alternate_string = string_alternative(full_name)\n",
    "\n",
    "#print the fullname\n",
    "print(full_name)\n",
    "\n",
    "#print the alternative string \n",
    "print(alternate_string)\n"
   ]
  },
  {
   "cell_type": "code",
   "execution_count": 6,
   "id": "a8665449",
   "metadata": {},
   "outputs": [
    {
     "ename": "FileNotFoundError",
     "evalue": "[Errno 2] No such file or directory: 'Input.txt'",
     "output_type": "error",
     "traceback": [
      "\u001b[1;31m---------------------------------------------------------------------------\u001b[0m",
      "\u001b[1;31mFileNotFoundError\u001b[0m                         Traceback (most recent call last)",
      "Cell \u001b[1;32mIn[6], line 2\u001b[0m\n\u001b[0;32m      1\u001b[0m \u001b[38;5;66;03m#Read the Input file from Home\u001b[39;00m\n\u001b[1;32m----> 2\u001b[0m Input_file \u001b[38;5;241m=\u001b[39m \u001b[38;5;28mopen\u001b[39m(\u001b[38;5;124m\"\u001b[39m\u001b[38;5;124mInput.txt\u001b[39m\u001b[38;5;124m\"\u001b[39m, \u001b[38;5;124m\"\u001b[39m\u001b[38;5;124mr\u001b[39m\u001b[38;5;124m\"\u001b[39m)\n\u001b[0;32m      3\u001b[0m \u001b[38;5;66;03m#Write the number of words count and split the data from input file\u001b[39;00m\n\u001b[0;32m      4\u001b[0m output_file \u001b[38;5;241m=\u001b[39m \u001b[38;5;28mopen\u001b[39m(\u001b[38;5;124m\"\u001b[39m\u001b[38;5;124moutput.txt\u001b[39m\u001b[38;5;124m\"\u001b[39m, \u001b[38;5;124m\"\u001b[39m\u001b[38;5;124mw\u001b[39m\u001b[38;5;124m\"\u001b[39m)\n",
      "File \u001b[1;32m~\\anaconda3\\Lib\\site-packages\\IPython\\core\\interactiveshell.py:284\u001b[0m, in \u001b[0;36m_modified_open\u001b[1;34m(file, *args, **kwargs)\u001b[0m\n\u001b[0;32m    277\u001b[0m \u001b[38;5;28;01mif\u001b[39;00m file \u001b[38;5;129;01min\u001b[39;00m {\u001b[38;5;241m0\u001b[39m, \u001b[38;5;241m1\u001b[39m, \u001b[38;5;241m2\u001b[39m}:\n\u001b[0;32m    278\u001b[0m     \u001b[38;5;28;01mraise\u001b[39;00m \u001b[38;5;167;01mValueError\u001b[39;00m(\n\u001b[0;32m    279\u001b[0m         \u001b[38;5;124mf\u001b[39m\u001b[38;5;124m\"\u001b[39m\u001b[38;5;124mIPython won\u001b[39m\u001b[38;5;124m'\u001b[39m\u001b[38;5;124mt let you open fd=\u001b[39m\u001b[38;5;132;01m{\u001b[39;00mfile\u001b[38;5;132;01m}\u001b[39;00m\u001b[38;5;124m by default \u001b[39m\u001b[38;5;124m\"\u001b[39m\n\u001b[0;32m    280\u001b[0m         \u001b[38;5;124m\"\u001b[39m\u001b[38;5;124mas it is likely to crash IPython. If you know what you are doing, \u001b[39m\u001b[38;5;124m\"\u001b[39m\n\u001b[0;32m    281\u001b[0m         \u001b[38;5;124m\"\u001b[39m\u001b[38;5;124myou can use builtins\u001b[39m\u001b[38;5;124m'\u001b[39m\u001b[38;5;124m open.\u001b[39m\u001b[38;5;124m\"\u001b[39m\n\u001b[0;32m    282\u001b[0m     )\n\u001b[1;32m--> 284\u001b[0m \u001b[38;5;28;01mreturn\u001b[39;00m io_open(file, \u001b[38;5;241m*\u001b[39margs, \u001b[38;5;241m*\u001b[39m\u001b[38;5;241m*\u001b[39mkwargs)\n",
      "\u001b[1;31mFileNotFoundError\u001b[0m: [Errno 2] No such file or directory: 'Input.txt'"
     ]
    }
   ],
   "source": [
    "#Read the Input file from Home\n",
    "Input_file = open(\"Input.txt\", \"r\")\n",
    "#Write the number of words count and split the data from input file\n",
    "output_file = open(\"output.txt\", \"w\")\n",
    "\n",
    "content = {}\n",
    "\n",
    "\n",
    "for line in Input_file:\n",
    "    output_file.write(line)\n",
    "    new_l = line.split()\n",
    "    for x in new_l:\n",
    "        if(content.get(x)==None):\n",
    "            content[x]=1\n",
    "        else:\n",
    "            content[x] = content[x] + 1\n",
    "            \n",
    "output_file.write(\" Word_Count : \")\n",
    "for key, value in content.items(): \n",
    "        output_file.write('%s:%s\\n' % (key, value))\n",
    "Input_file.close()\n",
    "output_file.close()\n"
   ]
  },
  {
   "cell_type": "code",
   "execution_count": 7,
   "id": "3c9b212d",
   "metadata": {},
   "outputs": [
    {
     "name": "stdout",
     "output_type": "stream",
     "text": [
      "enter customer heights : 150\n",
      "show list :  [381.0]\n"
     ]
    }
   ],
   "source": [
    "#Read the input data of customer heights in inches\n",
    "data = input(\"enter customer heights : \")\n",
    "\n",
    "#convert the height of customer in inches to centimeters\n",
    "def inchToCent(value):\n",
    "    return value*2.54\n",
    "\n",
    "heights = data.split()\n",
    "\n",
    "new_list = []\n",
    "\n",
    "for x in heights:\n",
    "    value = int(x)\n",
    "    new_list.append(inchToCent(value))\n",
    "    \n",
    "print(\"show list : \",new_list)"
   ]
  },
  {
   "cell_type": "code",
   "execution_count": null,
   "id": "1d79f411",
   "metadata": {},
   "outputs": [],
   "source": []
  }
 ],
 "metadata": {
  "kernelspec": {
   "display_name": "Python 3 (ipykernel)",
   "language": "python",
   "name": "python3"
  },
  "language_info": {
   "codemirror_mode": {
    "name": "ipython",
    "version": 3
   },
   "file_extension": ".py",
   "mimetype": "text/x-python",
   "name": "python",
   "nbconvert_exporter": "python",
   "pygments_lexer": "ipython3",
   "version": "3.11.5"
  }
 },
 "nbformat": 4,
 "nbformat_minor": 5
}
